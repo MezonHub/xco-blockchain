#%% md

# Functions Library
The Bonds Module is deployed with a built-in set of libraries for commonly-used algorithmic pricing and reserve functions. It also includes algorithmic application logic and features, such as *Augmented Bonding*. Additional functions can be added to the Library through SDK updates. This requires a formal process of governance to approve updates, to assure the integrity of these functions.

## Function Types
The following function types will be included in the standard Bonds SDK Module:
* Power (exponential)
* Logistic (sigmoidal)
* Constant Product (swapper)
Algorithmic Applications include:
* Alpha Bonds (Risk-adjusted bonding)
* Innovation Bonds (offers bond shareholders contingent rights to future IP rights and/or revenues)
* Impact Bonds (offers bond shareholders contingent rights to success-based outcomes payments and/or rewards)

### Exponential Function (power)

Function (used as pricing function):

$$y = mx^n + c$$

Integral (used as reserve function):

$$r = \frac{m}{n+1}x^{n+1} + cx$$

### Logistic Function (sigmoid)

Function (used as pricing function):

$$y = a \cdot \left( \frac{x-b}{\sqrt{c + (x-b)^2}} + 1 \right)$$

Integral (used as reserve function):

$$y = a \cdot \left( \sqrt{(x-b)^2 + c} + x \right) - a \cdot \left( \sqrt{b^2 + c} \right) $$

### Augmented Bonding Curves (augmented)

Initial reserve:

$$R_0 = (1-\theta)d_0$$

Initial supply:

$$S_0 = \frac{d_0}{p_0}$$

Constant power function invariant:

$$V(R,S) = \frac{S^\kappa}{R}$$

Invariant function:

$$V_0 = V(R_0,S_0) = \frac{{S_0}^\kappa}{R_0} = \left( \frac{1}{p_0 (1-\theta)} \right)^\kappa {R_0}^{\kappa - 1}$$

Pricing function:

$$P(R) = \frac{\kappa R^{(\kappa - 1)/\kappa}}{{V_0}^{1/\kappa}}$$

Reserve function:

$$R(S) = \frac{S^\kappa}{V_0}$$

Ref: https://medium.com/giveth/deep-dive-augmented-bonding-curves-3f1f7c1fa751

### Constant Product Function (swapper)

Reserve function:

$$x \cdot y = k$$
